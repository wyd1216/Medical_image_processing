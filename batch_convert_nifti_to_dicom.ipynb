{
 "cells": [
  {
   "cell_type": "code",
   "execution_count": 1,
   "id": "812049d9-90eb-47fc-82d0-9077a48a36cf",
   "metadata": {},
   "outputs": [
    {
     "data": {
      "text/plain": [
       "<Figure size 432x288 with 0 Axes>"
      ]
     },
     "metadata": {},
     "output_type": "display_data"
    }
   ],
   "source": [
    "import pathlib\n",
    "import shutil\n",
    "import SimpleITK as sitk\n",
    "import pandas as pd\n",
    "from tqdm import tqdm, trange\n",
    "from image_processing import load_image, convert_nifti_batch_to_dicom\n",
    "from image_processing import ImageProcess\n",
    "from image_processing import read_dicom_series\n",
    "from image_processing.util import save_file_path_to_pandas_table"
   ]
  },
  {
   "cell_type": "markdown",
   "id": "5fc9abc9-9ad1-46ef-891f-653ce58b3213",
   "metadata": {},
   "source": [
    "### Step 1\n",
    "Statistics of file paths in the destination directory\n",
    "If you have the pandas table of paths, then skip this step "
   ]
  },
  {
   "cell_type": "code",
   "execution_count": 2,
   "id": "2510f5d6-9bd6-4015-bca1-e302e0828666",
   "metadata": {},
   "outputs": [
    {
     "name": "stdout",
     "output_type": "stream",
     "text": [
      "====================================================================================================================\n",
      "=  \u001b[1;97;95mFile paths saved to /media/tx-deepocean/Data/workdir/wyd/2022/ZheJiang_BaChongJian/Dataset/nifti_path_info.csv\u001b[0m  =\n",
      "====================================================================================================================\n"
     ]
    },
    {
     "data": {
      "text/plain": [
       "'/media/tx-deepocean/Data/workdir/wyd/2022/ZheJiang_BaChongJian/Dataset/composite_data_in_dicoms/1.5/宋照英/composite_1_3'"
      ]
     },
     "execution_count": 2,
     "metadata": {},
     "output_type": "execute_result"
    }
   ],
   "source": [
    "origin_data_home = '/media/tx-deepocean/Data/workdir/wyd/2022/ZheJiang_BaChongJian/Dataset/composite_data'\n",
    "new_data_home = '/media/tx-deepocean/Data/workdir/wyd/2022/ZheJiang_BaChongJian/Dataset/composite_data_in_dicoms'\n",
    "save_file_path_to_pandas_table(origin_data_home, pathlib.Path(new_data_home).parent/'nifti_path_info.csv')\n",
    "info_df = pd.read_csv(pathlib.Path(new_data_home).parent/'nifti_path_info.csv')\n",
    "info_df['out_file_path'] = info_df['file_path'].apply(lambda x: x.replace('composite_data', 'composite_data_in_dicoms').replace('.nii.gz',''))\n",
    "info_df.head()\n",
    "info_df['out_file_path'][0]"
   ]
  },
  {
   "cell_type": "markdown",
   "id": "23b338aa-1d5f-4fe4-a799-11ed8f71b7d6",
   "metadata": {},
   "source": [
    "### Setp 2\n",
    "Covert nifti files into dicoms"
   ]
  },
  {
   "cell_type": "code",
   "execution_count": null,
   "id": "dd26dce6-e173-4143-a9e9-15d4f2e9c3fa",
   "metadata": {},
   "outputs": [],
   "source": [
    "def convert_nifti_batch_to_dicom(info_table, nifti_col, dicom_col, overwrite=True):\n",
    "    for ind, row in tqdm(info_table.iterrows()):\n",
    "        nii_file_path = pathlib.Path(row[nifti_col])\n",
    "        dicom_dir_path = pathlib.Path(row[dicom_col])\n",
    "        if not overwrite:\n",
    "            if dicom_dir_path.exists():\n",
    "                continue\n",
    "        else:\n",
    "            if dicom_dir_path.exists():\n",
    "                shutil.rmtree(dicom_dir_path, ignore_errors=True)\n",
    "        imgprs = ImageProcess(nii_file_path)\n",
    "        imgprs.saveimg(savepath=dicom_dir_path, format='dcm', meta_data=False)"
   ]
  },
  {
   "cell_type": "code",
   "execution_count": 11,
   "id": "b72bf5d5-b912-413f-979f-228096b21556",
   "metadata": {},
   "outputs": [
    {
     "name": "stderr",
     "output_type": "stream",
     "text": [
      "210it [08:43,  2.49s/it]\n"
     ]
    }
   ],
   "source": [
    "convert_nifti_batch_to_dicom(info_df, 'file_path', 'out_file_path', overwirte=False)"
   ]
  },
  {
   "cell_type": "markdown",
   "id": "ceeac1d3-4663-4040-8298-ae9e3e1b614c",
   "metadata": {},
   "source": [
    "### Step 3\n",
    "Check the information of the new dicoms series"
   ]
  },
  {
   "cell_type": "code",
   "execution_count": 5,
   "id": "0c6c2a01-1e16-4973-885c-34a02bc44f82",
   "metadata": {},
   "outputs": [],
   "source": [
    "example_nifti_path = info_df['file_path'][0]\n",
    "example_dicoms_path = info_df['out_file_path'][0]\n",
    "dicoms_path = pathlib.Path(example_dicoms_path)\n",
    "reader = sitk.ImageSeriesReader()\n",
    "dicomName = reader.GetGDCMSeriesFileNames(str(dicoms_path))\n",
    "reader.SetFileNames(dicomName)\n",
    "sitk_image = reader.Execute()"
   ]
  },
  {
   "cell_type": "code",
   "execution_count": 6,
   "id": "54b3aaec-5fa3-44c0-a401-a99b2cb1729a",
   "metadata": {},
   "outputs": [
    {
     "data": {
      "text/plain": [
       "(512, 512, 306)"
      ]
     },
     "execution_count": 6,
     "metadata": {},
     "output_type": "execute_result"
    }
   ],
   "source": [
    "sitk_image.GetSize()"
   ]
  },
  {
   "cell_type": "code",
   "execution_count": 7,
   "id": "ad0aa839-0494-4ae7-98c9-2ec3c91f16e2",
   "metadata": {},
   "outputs": [
    {
     "data": {
      "text/plain": [
       "(512, 512, 306)"
      ]
     },
     "execution_count": 7,
     "metadata": {},
     "output_type": "execute_result"
    }
   ],
   "source": [
    "nii_sitk_image = load_image(example_nifti_path)\n",
    "nii_sitk_image.GetSize()"
   ]
  },
  {
   "cell_type": "code",
   "execution_count": 8,
   "id": "17d7b6e7-4052-475c-8b68-7b5fc94982e9",
   "metadata": {},
   "outputs": [
    {
     "data": {
      "text/plain": [
       "(0.711000025272369, 0.711000025272369, 1.0)"
      ]
     },
     "execution_count": 8,
     "metadata": {},
     "output_type": "execute_result"
    }
   ],
   "source": [
    "sitk_image.GetSpacing()"
   ]
  },
  {
   "cell_type": "code",
   "execution_count": 9,
   "id": "b0bb4676-aaf3-485d-b81f-25084569b8eb",
   "metadata": {},
   "outputs": [
    {
     "data": {
      "text/plain": [
       "(0.7110000252723694, 0.7110000252723694, 1.0)"
      ]
     },
     "execution_count": 9,
     "metadata": {},
     "output_type": "execute_result"
    }
   ],
   "source": [
    "nii_sitk_image.GetSpacing()"
   ]
  },
  {
   "cell_type": "code",
   "execution_count": null,
   "id": "9c019f28-c692-4cfb-a5eb-4ea6d4b7575e",
   "metadata": {},
   "outputs": [],
   "source": []
  }
 ],
 "metadata": {
  "kernelspec": {
   "display_name": "WModel1",
   "language": "python",
   "name": "wmodel1"
  },
  "language_info": {
   "codemirror_mode": {
    "name": "ipython",
    "version": 3
   },
   "file_extension": ".py",
   "mimetype": "text/x-python",
   "name": "python",
   "nbconvert_exporter": "python",
   "pygments_lexer": "ipython3",
   "version": "3.7.5"
  }
 },
 "nbformat": 4,
 "nbformat_minor": 5
}
