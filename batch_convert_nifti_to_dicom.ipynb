{
 "cells": [
  {
   "cell_type": "code",
   "execution_count": 2,
   "id": "812049d9-90eb-47fc-82d0-9077a48a36cf",
   "metadata": {},
   "outputs": [
    {
     "ename": "ImportError",
     "evalue": "cannot import name 'ImageProcess' from 'image_processing' (/media/tx-deepocean/Data/workdir/wyd/2023/BeiDaRenMin/Osteosarcoma/medical_image_process/image_processing/__init__.py)",
     "output_type": "error",
     "traceback": [
      "\u001b[0;31m---------------------------------------------------------------------------\u001b[0m",
      "\u001b[0;31mImportError\u001b[0m                               Traceback (most recent call last)",
      "\u001b[0;32m/tmp/ipykernel_20378/2267711993.py\u001b[0m in \u001b[0;36m<module>\u001b[0;34m\u001b[0m\n\u001b[1;32m      5\u001b[0m \u001b[0;32mfrom\u001b[0m \u001b[0mtqdm\u001b[0m \u001b[0;32mimport\u001b[0m \u001b[0mtqdm\u001b[0m\u001b[0;34m,\u001b[0m \u001b[0mtrange\u001b[0m\u001b[0;34m\u001b[0m\u001b[0;34m\u001b[0m\u001b[0m\n\u001b[1;32m      6\u001b[0m \u001b[0;32mfrom\u001b[0m \u001b[0mimage_processing\u001b[0m \u001b[0;32mimport\u001b[0m \u001b[0mload_image\u001b[0m\u001b[0;34m,\u001b[0m \u001b[0mconvert_nifti_batch_to_dicom\u001b[0m\u001b[0;34m\u001b[0m\u001b[0;34m\u001b[0m\u001b[0m\n\u001b[0;32m----> 7\u001b[0;31m \u001b[0;32mfrom\u001b[0m \u001b[0mimage_processing\u001b[0m \u001b[0;32mimport\u001b[0m \u001b[0mImageProcess\u001b[0m\u001b[0;34m\u001b[0m\u001b[0;34m\u001b[0m\u001b[0m\n\u001b[0m\u001b[1;32m      8\u001b[0m \u001b[0;32mfrom\u001b[0m \u001b[0mimage_processing\u001b[0m \u001b[0;32mimport\u001b[0m \u001b[0mread_dicom_series\u001b[0m\u001b[0;34m\u001b[0m\u001b[0;34m\u001b[0m\u001b[0m\n\u001b[1;32m      9\u001b[0m \u001b[0;32mfrom\u001b[0m \u001b[0mimage_processing\u001b[0m\u001b[0;34m.\u001b[0m\u001b[0mutil\u001b[0m \u001b[0;32mimport\u001b[0m \u001b[0msave_file_path_to_pandas_table\u001b[0m\u001b[0;34m\u001b[0m\u001b[0;34m\u001b[0m\u001b[0m\n",
      "\u001b[0;31mImportError\u001b[0m: cannot import name 'ImageProcess' from 'image_processing' (/media/tx-deepocean/Data/workdir/wyd/2023/BeiDaRenMin/Osteosarcoma/medical_image_process/image_processing/__init__.py)"
     ]
    },
    {
     "data": {
      "text/plain": [
       "<Figure size 432x288 with 0 Axes>"
      ]
     },
     "metadata": {},
     "output_type": "display_data"
    }
   ],
   "source": [
    "import pathlib\n",
    "import shutil\n",
    "import SimpleITK as sitk\n",
    "import pandas as pd\n",
    "from tqdm import tqdm, trange\n",
    "from image_processing import load_image, convert_nifti_batch_to_dicom\n",
    "from image_processing import ImageProcess\n",
    "from image_processing import read_dicom_series\n",
    "from image_processing.util import save_file_path_to_pandas_table"
   ]
  },
  {
   "cell_type": "markdown",
   "id": "5fc9abc9-9ad1-46ef-891f-653ce58b3213",
   "metadata": {},
   "source": [
    "### Step 1\n",
    "Statistics of file paths in the destination directory\n",
    "If you have the pandas table of paths, then skip this step "
   ]
  },
  {
   "cell_type": "code",
   "execution_count": 2,
   "id": "2510f5d6-9bd6-4015-bca1-e302e0828666",
   "metadata": {},
   "outputs": [
    {
     "name": "stdout",
     "output_type": "stream",
     "text": [
      "====================================================================================================================\n",
      "=  \u001b[1;97;95mFile paths saved to /media/tx-deepocean/Data/workdir/wyd/2022/ZheJiang_BaChongJian/Dataset/nifti_path_info.csv\u001b[0m  =\n",
      "====================================================================================================================\n"
     ]
    },
    {
     "data": {
      "text/plain": [
       "'/media/tx-deepocean/Data/workdir/wyd/2022/ZheJiang_BaChongJian/Dataset/composite_data_in_dicoms/1.5/宋照英/composite_1_3'"
      ]
     },
     "execution_count": 2,
     "metadata": {},
     "output_type": "execute_result"
    }
   ],
   "source": [
    "origin_data_home = '/media/tx-deepocean/Data/workdir/wyd/2022/ZheJiang_BaChongJian/Dataset/composite_data'\n",
    "new_data_home = '/media/tx-deepocean/Data/workdir/wyd/2022/ZheJiang_BaChongJian/Dataset/composite_data_in_dicoms'\n",
    "save_file_path_to_pandas_table(origin_data_home, pathlib.Path(new_data_home).parent/'nifti_path_info.csv')\n",
    "info_df = pd.read_csv(pathlib.Path(new_data_home).parent/'nifti_path_info.csv')\n",
    "info_df['out_file_path'] = info_df['file_path'].apply(lambda x: x.replace('composite_data', 'composite_data_in_dicoms').replace('.nii.gz',''))\n",
    "info_df.head()\n",
    "info_df['out_file_path'][0]"
   ]
  },
  {
   "cell_type": "markdown",
   "id": "23b338aa-1d5f-4fe4-a799-11ed8f71b7d6",
   "metadata": {},
   "source": [
    "### Setp 2\n",
    "Covert nifti files into dicoms"
   ]
  },
  {
   "cell_type": "code",
   "execution_count": null,
   "id": "dd26dce6-e173-4143-a9e9-15d4f2e9c3fa",
   "metadata": {},
   "outputs": [],
   "source": [
    "def convert_nifti_batch_to_dicom(info_table, nifti_col, dicom_col, overwrite=True):\n",
    "    for ind, row in tqdm(info_table.iterrows()):\n",
    "        nii_file_path = pathlib.Path(row[nifti_col])\n",
    "        dicom_dir_path = pathlib.Path(row[dicom_col])\n",
    "        if not overwrite:\n",
    "            if dicom_dir_path.exists():\n",
    "                continue\n",
    "        else:\n",
    "            if dicom_dir_path.exists():\n",
    "                shutil.rmtree(dicom_dir_path, ignore_errors=True)\n",
    "        imgprs = ImageProcess(nii_file_path)\n",
    "        imgprs.saveimg(savepath=dicom_dir_path, format='dcm', meta_data=False)"
   ]
  },
  {
   "cell_type": "code",
   "execution_count": 11,
   "id": "b72bf5d5-b912-413f-979f-228096b21556",
   "metadata": {},
   "outputs": [
    {
     "name": "stderr",
     "output_type": "stream",
     "text": [
      "210it [08:43,  2.49s/it]\n"
     ]
    }
   ],
   "source": [
    "convert_nifti_batch_to_dicom(info_df, 'file_path', 'out_file_path', overwirte=False)"
   ]
  },
  {
   "cell_type": "markdown",
   "id": "ceeac1d3-4663-4040-8298-ae9e3e1b614c",
   "metadata": {},
   "source": [
    "### Step 3\n",
    "Check the information of the new dicoms series"
   ]
  },
  {
   "cell_type": "code",
   "execution_count": 5,
   "id": "0c6c2a01-1e16-4973-885c-34a02bc44f82",
   "metadata": {},
   "outputs": [],
   "source": [
    "example_nifti_path = info_df['file_path'][0]\n",
    "example_dicoms_path = info_df['out_file_path'][0]\n",
    "dicoms_path = pathlib.Path(example_dicoms_path)\n",
    "reader = sitk.ImageSeriesReader()\n",
    "dicomName = reader.GetGDCMSeriesFileNames(str(dicoms_path))\n",
    "reader.SetFileNames(dicomName)\n",
    "sitk_image = reader.Execute()"
   ]
  },
  {
   "cell_type": "code",
   "execution_count": 6,
   "id": "54b3aaec-5fa3-44c0-a401-a99b2cb1729a",
   "metadata": {},
   "outputs": [
    {
     "data": {
      "text/plain": [
       "(512, 512, 306)"
      ]
     },
     "execution_count": 6,
     "metadata": {},
     "output_type": "execute_result"
    }
   ],
   "source": [
    "sitk_image.GetSize()"
   ]
  },
  {
   "cell_type": "code",
   "execution_count": 7,
   "id": "ad0aa839-0494-4ae7-98c9-2ec3c91f16e2",
   "metadata": {},
   "outputs": [
    {
     "data": {
      "text/plain": [
       "(512, 512, 306)"
      ]
     },
     "execution_count": 7,
     "metadata": {},
     "output_type": "execute_result"
    }
   ],
   "source": [
    "nii_sitk_image = load_image(example_nifti_path)\n",
    "nii_sitk_image.GetSize()"
   ]
  },
  {
   "cell_type": "code",
   "execution_count": 8,
   "id": "17d7b6e7-4052-475c-8b68-7b5fc94982e9",
   "metadata": {},
   "outputs": [
    {
     "data": {
      "text/plain": [
       "(0.711000025272369, 0.711000025272369, 1.0)"
      ]
     },
     "execution_count": 8,
     "metadata": {},
     "output_type": "execute_result"
    }
   ],
   "source": [
    "sitk_image.GetSpacing()"
   ]
  },
  {
   "cell_type": "code",
   "execution_count": 9,
   "id": "b0bb4676-aaf3-485d-b81f-25084569b8eb",
   "metadata": {},
   "outputs": [
    {
     "data": {
      "text/plain": [
       "(0.7110000252723694, 0.7110000252723694, 1.0)"
      ]
     },
     "execution_count": 9,
     "metadata": {},
     "output_type": "execute_result"
    }
   ],
   "source": [
    "nii_sitk_image.GetSpacing()"
   ]
  },
  {
   "cell_type": "code",
   "execution_count": 3,
   "id": "9c019f28-c692-4cfb-a5eb-4ea6d4b7575e",
   "metadata": {},
   "outputs": [
    {
     "data": {
      "text/plain": [
       "'.csv'"
      ]
     },
     "execution_count": 3,
     "metadata": {},
     "output_type": "execute_result"
    }
   ],
   "source": [
    "from pathlib import Path\n",
    "Path('./sss.csv').suffix"
   ]
  },
  {
   "cell_type": "code",
   "execution_count": 16,
   "id": "1d4c6be7-c281-413a-81f9-a508426914fa",
   "metadata": {},
   "outputs": [
    {
     "data": {
      "text/plain": [
       "('medical_image_process', 'output', 'report_saved')"
      ]
     },
     "execution_count": 16,
     "metadata": {},
     "output_type": "execute_result"
    }
   ],
   "source": [
    "path3 = Path('/media/tx-deepocean/Data/workdir/wyd/2023/BeiDaRenMin/Osteosarcoma/medical_image_process/output/report_saved').parts[-3:]\n",
    "path3"
   ]
  },
  {
   "cell_type": "code",
   "execution_count": 17,
   "id": "a4149a0c-9b97-4e80-a5c2-a3301d87bf02",
   "metadata": {},
   "outputs": [],
   "source": [
    "def create_path_from_names(path_names):\n",
    "    path = Path(path_names[0])\n",
    "    \n",
    "    for name in path_names[1:]:\n",
    "        path = path / name\n",
    "\n",
    "    return path"
   ]
  },
  {
   "cell_type": "code",
   "execution_count": 20,
   "id": "c3f980c9-10fa-4758-b76d-9f27fc4c7085",
   "metadata": {},
   "outputs": [
    {
     "data": {
      "text/plain": [
       "PosixPath('medical_image_process/output/report_saved')"
      ]
     },
     "execution_count": 20,
     "metadata": {},
     "output_type": "execute_result"
    }
   ],
   "source": [
    "part_path = create_path_from_names(path3)\n",
    "part_path"
   ]
  },
  {
   "cell_type": "code",
   "execution_count": 21,
   "id": "532b2cd5-e8e1-4225-8151-293d3266a17b",
   "metadata": {},
   "outputs": [],
   "source": [
    "tt = Path('/media/tx-deepocean/Data/workdir/wyd/2023/BeiDaRenMin/Osteosarcoma/')/part_path"
   ]
  },
  {
   "cell_type": "code",
   "execution_count": 22,
   "id": "421c85c5-8fb8-4ab7-bae0-ce0f51c5a0e3",
   "metadata": {},
   "outputs": [
    {
     "data": {
      "text/plain": [
       "PosixPath('/media/tx-deepocean/Data/workdir/wyd/2023/BeiDaRenMin/Osteosarcoma/medical_image_process/output/report_saved')"
      ]
     },
     "execution_count": 22,
     "metadata": {},
     "output_type": "execute_result"
    }
   ],
   "source": [
    "tt"
   ]
  },
  {
   "cell_type": "code",
   "execution_count": 33,
   "id": "2e38145c-9d7f-4d21-8e84-1b6eae96e371",
   "metadata": {},
   "outputs": [
    {
     "data": {
      "text/plain": [
       "PosixPath('/media/tx-deepocean/Data/workdir/wyd/2023/BeiDaRenMin/Osteosarcoma/medical_image_process/output/report_saved.csv')"
      ]
     },
     "execution_count": 33,
     "metadata": {},
     "output_type": "execute_result"
    }
   ],
   "source": [
    "tt1 = tt.with_suffix('.csv')\n",
    "tt1"
   ]
  },
  {
   "cell_type": "code",
   "execution_count": 39,
   "id": "fb1f46df-d823-4807-af83-b429d09c7aa4",
   "metadata": {},
   "outputs": [
    {
     "data": {
      "text/plain": [
       "PosixPath('/media/tx-deepocean/Data/workdir/wyd/2023/BeiDaRenMin/Osteosarcoma/medical_image_process/output/report_saved.nii.nii.gz')"
      ]
     },
     "execution_count": 39,
     "metadata": {},
     "output_type": "execute_result"
    }
   ],
   "source": [
    "tt1 = tt1.with_suffix('.nii.gz')\n",
    "tt1"
   ]
  },
  {
   "cell_type": "code",
   "execution_count": 31,
   "id": "a9a90c77-d5ca-4c89-b90b-392b4ecbf987",
   "metadata": {},
   "outputs": [
    {
     "data": {
      "text/html": [
       "<div>\n",
       "<style scoped>\n",
       "    .dataframe tbody tr th:only-of-type {\n",
       "        vertical-align: middle;\n",
       "    }\n",
       "\n",
       "    .dataframe tbody tr th {\n",
       "        vertical-align: top;\n",
       "    }\n",
       "\n",
       "    .dataframe thead th {\n",
       "        text-align: right;\n",
       "    }\n",
       "</style>\n",
       "<table border=\"1\" class=\"dataframe\">\n",
       "  <thead>\n",
       "    <tr style=\"text-align: right;\">\n",
       "      <th></th>\n",
       "      <th>0</th>\n",
       "      <th>1</th>\n",
       "    </tr>\n",
       "  </thead>\n",
       "  <tbody>\n",
       "    <tr>\n",
       "      <th>0</th>\n",
       "      <td>1.0</td>\n",
       "      <td>1.0</td>\n",
       "    </tr>\n",
       "    <tr>\n",
       "      <th>1</th>\n",
       "      <td>1.0</td>\n",
       "      <td>1.0</td>\n",
       "    </tr>\n",
       "  </tbody>\n",
       "</table>\n",
       "</div>"
      ],
      "text/plain": [
       "     0    1\n",
       "0  1.0  1.0\n",
       "1  1.0  1.0"
      ]
     },
     "execution_count": 31,
     "metadata": {},
     "output_type": "execute_result"
    }
   ],
   "source": [
    "import numpy as np\n",
    "df1 = pd.DataFrame(np.ones((2,2)))\n",
    "df1"
   ]
  },
  {
   "cell_type": "code",
   "execution_count": 32,
   "id": "da6161e8-f644-48f6-897e-f191f8c061db",
   "metadata": {},
   "outputs": [
    {
     "data": {
      "text/plain": [
       "1.0"
      ]
     },
     "execution_count": 32,
     "metadata": {},
     "output_type": "execute_result"
    }
   ],
   "source": [
    "df1.iloc[0,:][0]"
   ]
  },
  {
   "cell_type": "code",
   "execution_count": 40,
   "id": "e0861671-3e28-47e8-ac9e-802eab017c93",
   "metadata": {},
   "outputs": [
    {
     "data": {
      "text/html": [
       "<div>\n",
       "<style scoped>\n",
       "    .dataframe tbody tr th:only-of-type {\n",
       "        vertical-align: middle;\n",
       "    }\n",
       "\n",
       "    .dataframe tbody tr th {\n",
       "        vertical-align: top;\n",
       "    }\n",
       "\n",
       "    .dataframe thead th {\n",
       "        text-align: right;\n",
       "    }\n",
       "</style>\n",
       "<table border=\"1\" class=\"dataframe\">\n",
       "  <thead>\n",
       "    <tr style=\"text-align: right;\">\n",
       "      <th></th>\n",
       "      <th>lable</th>\n",
       "      <th>ID</th>\n",
       "      <th>sex</th>\n",
       "      <th>age</th>\n",
       "      <th>location</th>\n",
       "      <th>ALP</th>\n",
       "      <th>pathology type</th>\n",
       "      <th>size</th>\n",
       "    </tr>\n",
       "  </thead>\n",
       "  <tbody>\n",
       "    <tr>\n",
       "      <th>0</th>\n",
       "      <td>0</td>\n",
       "      <td>82769550</td>\n",
       "      <td>0</td>\n",
       "      <td>7</td>\n",
       "      <td>1</td>\n",
       "      <td>0.0</td>\n",
       "      <td>1</td>\n",
       "      <td>11.0</td>\n",
       "    </tr>\n",
       "    <tr>\n",
       "      <th>1</th>\n",
       "      <td>0</td>\n",
       "      <td>82709979</td>\n",
       "      <td>1</td>\n",
       "      <td>23</td>\n",
       "      <td>1</td>\n",
       "      <td>1.0</td>\n",
       "      <td>1</td>\n",
       "      <td>7.5</td>\n",
       "    </tr>\n",
       "    <tr>\n",
       "      <th>2</th>\n",
       "      <td>0</td>\n",
       "      <td>82711996</td>\n",
       "      <td>0</td>\n",
       "      <td>12</td>\n",
       "      <td>1</td>\n",
       "      <td>0.0</td>\n",
       "      <td>2</td>\n",
       "      <td>15.1</td>\n",
       "    </tr>\n",
       "    <tr>\n",
       "      <th>3</th>\n",
       "      <td>0</td>\n",
       "      <td>82797007</td>\n",
       "      <td>1</td>\n",
       "      <td>5</td>\n",
       "      <td>1</td>\n",
       "      <td>0.0</td>\n",
       "      <td>1</td>\n",
       "      <td>5.3</td>\n",
       "    </tr>\n",
       "    <tr>\n",
       "      <th>4</th>\n",
       "      <td>0</td>\n",
       "      <td>82866515</td>\n",
       "      <td>0</td>\n",
       "      <td>8</td>\n",
       "      <td>1</td>\n",
       "      <td>1.0</td>\n",
       "      <td>1</td>\n",
       "      <td>7.1</td>\n",
       "    </tr>\n",
       "  </tbody>\n",
       "</table>\n",
       "</div>"
      ],
      "text/plain": [
       "   lable        ID  sex  age  location  ALP  pathology type  size\n",
       "0      0  82769550    0    7         1  0.0               1  11.0\n",
       "1      0  82709979    1   23         1  1.0               1   7.5\n",
       "2      0  82711996    0   12         1  0.0               2  15.1\n",
       "3      0  82797007    1    5         1  0.0               1   5.3\n",
       "4      0  82866515    0    8         1  1.0               1   7.1"
      ]
     },
     "execution_count": 40,
     "metadata": {},
     "output_type": "execute_result"
    }
   ],
   "source": [
    "import pandas as pd\n",
    "label_file = pd.read_excel('../Dataset/radiogeneomics_data.xlsx', sheet_name='114（化疗方案一致）')\n",
    "label_file.head()"
   ]
  },
  {
   "cell_type": "code",
   "execution_count": 41,
   "id": "99334750-b6ff-40d9-9e44-77fee3c37999",
   "metadata": {},
   "outputs": [],
   "source": [
    "label_file.rename(columns={'lable':'label'}, inplace=True)\n",
    "label_file.to_csv('../Dataset/label.csv', index=0)"
   ]
  },
  {
   "cell_type": "code",
   "execution_count": null,
   "id": "a6e1be42-7cd9-4924-a774-f69f7e79cca6",
   "metadata": {},
   "outputs": [],
   "source": []
  }
 ],
 "metadata": {
  "kernelspec": {
   "display_name": "WModel1",
   "language": "python",
   "name": "wmodel1"
  },
  "language_info": {
   "codemirror_mode": {
    "name": "ipython",
    "version": 3
   },
   "file_extension": ".py",
   "mimetype": "text/x-python",
   "name": "python",
   "nbconvert_exporter": "python",
   "pygments_lexer": "ipython3",
   "version": "3.7.5"
  }
 },
 "nbformat": 4,
 "nbformat_minor": 5
}
